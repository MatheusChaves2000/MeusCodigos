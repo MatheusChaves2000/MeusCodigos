{
 "cells": [
  {
   "cell_type": "markdown",
   "id": "bb0f9514",
   "metadata": {
    "id": "bb0f9514"
   },
   "source": [
    "# Lista de Estrutura Sequencial"
   ]
  },
  {
   "cell_type": "markdown",
   "id": "4e7a8c30",
   "metadata": {
    "id": "4e7a8c30"
   },
   "source": [
    "#### 1. Faça um Programa que mostre a mensagem (print) \"Alo mundo\" na tela."
   ]
  },
  {
   "cell_type": "code",
   "execution_count": 1,
   "id": "883bfe85",
   "metadata": {
    "id": "883bfe85"
   },
   "outputs": [
    {
     "name": "stdout",
     "output_type": "stream",
     "text": [
      "Alô Mundo\n"
     ]
    }
   ],
   "source": [
    "print ('Alô Mundo')"
   ]
  },
  {
   "cell_type": "markdown",
   "id": "71d6d6a2",
   "metadata": {
    "id": "71d6d6a2"
   },
   "source": [
    "#### 2. Faça um Programa que peça um número (input) e então mostre a mensagem: \"O número informado foi [número].\""
   ]
  },
  {
   "cell_type": "code",
   "execution_count": 3,
   "id": "30cfffcf",
   "metadata": {
    "id": "30cfffcf"
   },
   "outputs": [
    {
     "name": "stdout",
     "output_type": "stream",
     "text": [
      "O número informado foi 746.\n"
     ]
    }
   ],
   "source": [
    "numero = input('Digite o número desejado:')\n",
    "print(f'O número informado foi {numero}.')"
   ]
  },
  {
   "cell_type": "markdown",
   "id": "c5e43160",
   "metadata": {
    "id": "c5e43160"
   },
   "source": [
    "#### 3. Faça um Programa que peça dois números e imprima a soma."
   ]
  },
  {
   "cell_type": "code",
   "execution_count": 5,
   "id": "b0e79590",
   "metadata": {
    "id": "b0e79590"
   },
   "outputs": [
    {
     "name": "stdout",
     "output_type": "stream",
     "text": [
      "Soma = 85.\n"
     ]
    }
   ],
   "source": [
    "numero1 = int(input('Digite o primeiro número:'))\n",
    "numero2 = int(input('Digite o segundo número:'))\n",
    "soma = numero1 + numero2\n",
    "print(f'Soma = {soma}.')"
   ]
  },
  {
   "cell_type": "markdown",
   "id": "17826987",
   "metadata": {
    "id": "17826987"
   },
   "source": [
    "#### 4. Faça um Programa que peça as 4 notas bimestrais de um aluno e mostre a média de todas as notas."
   ]
  },
  {
   "cell_type": "code",
   "execution_count": 14,
   "id": "23b66762",
   "metadata": {
    "id": "23b66762"
   },
   "outputs": [
    {
     "name": "stdout",
     "output_type": "stream",
     "text": [
      "Sua média é 10.0\n"
     ]
    }
   ],
   "source": [
    "nota1 = float (input(\"Digite sua 1ª nota:\"))\n",
    "nota2 = float (input('Digite sua 2ª nota:'))\n",
    "nota3 = float (input('Digite sua 3ª nota:'))\n",
    "nota4 = float (input('Digite sua 4ª nota:'))\n",
    "\n",
    "media = (nota1 + nota2 + nota3 + nota4) / 4\n",
    "\n",
    "print (f'Sua média é {media}')"
   ]
  },
  {
   "cell_type": "markdown",
   "id": "62d461c5",
   "metadata": {
    "id": "62d461c5"
   },
   "source": [
    "#### 5. Faça um Programa que converta metros para centímetros. Você pode pedir o comprimento em metros para o usuário (input)."
   ]
  },
  {
   "cell_type": "code",
   "execution_count": 5,
   "id": "d642f1ba",
   "metadata": {
    "id": "d642f1ba"
   },
   "outputs": [
    {
     "name": "stdout",
     "output_type": "stream",
     "text": [
      "Resultado convertido: 600.0 cm\n"
     ]
    }
   ],
   "source": [
    "comprimento = float (input ('Digite o comprimento (em metros):'))\n",
    "conversor = comprimento * 100\n",
    "\n",
    "print (f'Resultado convertido: {conversor} cm')"
   ]
  },
  {
   "cell_type": "markdown",
   "id": "f1311697",
   "metadata": {
    "id": "f1311697"
   },
   "source": [
    "#### 6. Faça um Programa que calcule a área de uma sala de um apartamento. Para isso, o seu programa precisa pedir a largura da sala, o comprimento da sala e imprimir a área em m² da sala."
   ]
  },
  {
   "cell_type": "code",
   "execution_count": 6,
   "id": "612ea24b",
   "metadata": {
    "id": "612ea24b"
   },
   "outputs": [
    {
     "name": "stdout",
     "output_type": "stream",
     "text": [
      "Área: 13.5 m2\n"
     ]
    }
   ],
   "source": [
    "largura_m = float (input ('Largura:'))\n",
    "comprimento_m = float (input ('Comprimento:'))\n",
    "area_sala = largura_m * comprimento_m\n",
    "\n",
    "print (f'Área: {area_sala} m2')"
   ]
  },
  {
   "cell_type": "markdown",
   "id": "2a285929",
   "metadata": {
    "id": "2a285929"
   },
   "source": [
    "#### 7. Faça um Programa que pergunte quanto você ganha por hora e o número de horas trabalhadas no mês. Calcule e mostre o total do seu salário no referido mês."
   ]
  },
  {
   "cell_type": "code",
   "execution_count": 8,
   "id": "359e2232",
   "metadata": {
    "id": "359e2232"
   },
   "outputs": [
    {
     "name": "stdout",
     "output_type": "stream",
     "text": [
      "Seu salário foi de R$8000.0 no último mês.\n"
     ]
    }
   ],
   "source": [
    "salario_hora = float (input ('Qual a sua remuneração por hora trabalhada?'))\n",
    "horas_trabalhadas_mes = float (input ('Quantas horas trabalhadas no último mês?'))\n",
    "salario_mes = salario_hora * horas_trabalhadas_mes\n",
    "\n",
    "print (f'Seu salário foi de R${salario_mes} no último mês.')"
   ]
  },
  {
   "cell_type": "markdown",
   "id": "7e2d4615",
   "metadata": {
    "id": "7e2d4615"
   },
   "source": [
    "#### 8. Vamos criar um conversor de temperatura. Faça um Programa que peça a temperatura em graus Fahrenheit, transforme e mostre a temperatura em graus Celsius.\n",
    "$C = \\frac{5}{9}(F-32)$"
   ]
  },
  {
   "cell_type": "code",
   "execution_count": 5,
   "id": "82daf9fd",
   "metadata": {
    "id": "82daf9fd"
   },
   "outputs": [
    {
     "name": "stdout",
     "output_type": "stream",
     "text": [
      "Temperatura em celsius: 25.0 ºC\n"
     ]
    }
   ],
   "source": [
    "temp_f = float (input ('Digite a temperatura (em graus fahrenheit):'))\n",
    "temp_c = (temp_f - 32) * 5 / 9\n",
    "\n",
    "print (f'Temperatura em celsius: {temp_c} ºC')"
   ]
  },
  {
   "cell_type": "markdown",
   "id": "20708b1c",
   "metadata": {
    "id": "20708b1c"
   },
   "source": [
    "#### 9. Faça um Programa que peça a temperatura em graus Celsius, transforme e mostre em graus Fahrenheit.\n",
    "$F = \\frac{9}{5}C + 32$"
   ]
  },
  {
   "cell_type": "code",
   "execution_count": 4,
   "id": "c73cfb38",
   "metadata": {
    "id": "c73cfb38"
   },
   "outputs": [
    {
     "name": "stdout",
     "output_type": "stream",
     "text": [
      "Temperatura em graus fahrenheit: 77.0ºF\n"
     ]
    }
   ],
   "source": [
    "temp_c2 = float (input ('Digite a temperatura (em graus celsius):'))\n",
    "temp_f2 = temp_c2 * 9 / 5 + 32\n",
    "\n",
    "print (f'Temperatura em graus fahrenheit: {temp_f2}ºF')"
   ]
  },
  {
   "cell_type": "markdown",
   "id": "b263a9dc",
   "metadata": {
    "id": "b263a9dc"
   },
   "source": [
    "#### 10. Tendo como dados de entrada a altura (h) de uma pessoa, construa um algoritmo que calcule seu peso ideal, usando a seguinte fórmula:\n",
    "$P = 72,7h - 58$\n",
    "\n",
    "Lembrando que \"algoritmo\" nada mais é do que um programa, como todos os outros que você vem fazendo"
   ]
  },
  {
   "cell_type": "code",
   "execution_count": 7,
   "id": "9a9b8dca",
   "metadata": {
    "id": "9a9b8dca"
   },
   "outputs": [
    {
     "name": "stdout",
     "output_type": "stream",
     "text": [
      "Seu peso ideal é de 80.13 kg.\n"
     ]
    }
   ],
   "source": [
    "altura = float (input ('Insira sua altura (em metros):'))\n",
    "peso_ideal = 72.7 * altura - 58\n",
    "\n",
    "print (f'Seu peso ideal é de {peso_ideal} kg.')"
   ]
  },
  {
   "cell_type": "markdown",
   "id": "13bb40d7",
   "metadata": {
    "id": "13bb40d7"
   },
   "source": [
    "#### 11. Tendo como dado de entrada a altura (h) de uma pessoa, construa um algoritmo que calcule seu peso ideal, utilizando as seguintes fórmulas:\n",
    "##### a. Para homens: $P = 72,7h - 58$\n",
    "##### b. Para mulheres: $P = 62,1h - 44,7$"
   ]
  },
  {
   "cell_type": "code",
   "execution_count": 8,
   "id": "bf82dc8c",
   "metadata": {
    "id": "bf82dc8c"
   },
   "outputs": [
    {
     "name": "stdout",
     "output_type": "stream",
     "text": [
      "O peso ideal correspondente a essa altura é de 69.22500000000001 kg para homens, e de 63.974999999999994 kg para mulheres. \n"
     ]
    }
   ],
   "source": [
    "altura = float (input ('Digite sua altura (em metros):'))\n",
    "peso_idealH = 72.7 * altura - 58\n",
    "peso_idealM = 62.1 * altura - 44.7\n",
    "\n",
    "print (f'O peso ideal correspondente a essa altura é de {peso_idealH} kg para homens, e de {peso_idealM} kg para mulheres. ')"
   ]
  },
  {
   "cell_type": "markdown",
   "id": "f208ef89",
   "metadata": {
    "id": "f208ef89"
   },
   "source": [
    "#### 12. Faça um Programa que pergunte quanto você ganha por hora e o número de horas trabalhadas no mês."
   ]
  },
  {
   "cell_type": "code",
   "execution_count": null,
   "id": "2d5b23e0",
   "metadata": {
    "id": "2d5b23e0"
   },
   "outputs": [],
   "source": [
    "salario_hora = float (input ('Informe sua remuneração em R$ por hora:'))\n",
    "horas_trabalhadas_mes = float (input ('Informe a quantidade de horas trabalhadas:'))"
   ]
  },
  {
   "cell_type": "markdown",
   "id": "607dee3c",
   "metadata": {
    "id": "607dee3c"
   },
   "source": [
    "#####  Calcule o salário bruto (horas * salario por hora)"
   ]
  },
  {
   "cell_type": "code",
   "execution_count": null,
   "id": "7f80ccbb",
   "metadata": {
    "id": "7f80ccbb"
   },
   "outputs": [
    {
     "name": "stdout",
     "output_type": "stream",
     "text": [
      "Salário bruto: R$8000.0\n"
     ]
    }
   ],
   "source": [
    "salario_hora = float (input ('Informe sua remuneração em R$ por hora:'))\n",
    "horas_trabalhadas_mes = float (input ('Informe a quantidade de horas trabalhadas:'))\n",
    "salario_bruto = salario_hora * horas_trabalhadas_mes\n",
    "\n",
    "print (f'Salário bruto: R${salario_bruto}')"
   ]
  },
  {
   "cell_type": "markdown",
   "id": "2ed93cb0",
   "metadata": {
    "id": "2ed93cb0"
   },
   "source": [
    "##### Calcule o desconto do IR (11% do salário bruto)"
   ]
  },
  {
   "cell_type": "code",
   "execution_count": null,
   "id": "3363e22f",
   "metadata": {
    "id": "3363e22f"
   },
   "outputs": [
    {
     "name": "stdout",
     "output_type": "stream",
     "text": [
      "Desconto do IR: R$880.0\n"
     ]
    }
   ],
   "source": [
    "salario_hora = float (input ('Informe sua remuneração em R$ por hora:'))\n",
    "horas_trabalhadas_mes = float (input ('Informe a quantidade de horas trabalhadas:'))\n",
    "salario_bruto = salario_hora * horas_trabalhadas_mes\n",
    "ir = 0.11 * salario_bruto\n",
    "\n",
    "print (f'Desconto do IR: R${ir}')"
   ]
  },
  {
   "cell_type": "markdown",
   "id": "0994b2c0",
   "metadata": {
    "id": "0994b2c0"
   },
   "source": [
    "##### Calcule o desconto do INSS (8% do salário bruto)"
   ]
  },
  {
   "cell_type": "code",
   "execution_count": 14,
   "id": "748c6088",
   "metadata": {
    "id": "748c6088"
   },
   "outputs": [
    {
     "name": "stdout",
     "output_type": "stream",
     "text": [
      "Desconto do INSS: R$640.0\n"
     ]
    }
   ],
   "source": [
    "salario_hora = float (input ('Informe sua remuneração em R$ por hora:'))\n",
    "horas_trabalhadas_mes = float (input ('Informe a quantidade de horas trabalhadas:'))\n",
    "salario_bruto = salario_hora * horas_trabalhadas_mes\n",
    "inss = 0.08 * salario_bruto\n",
    "\n",
    "print (f'Desconto do INSS: R${inss}')"
   ]
  },
  {
   "cell_type": "markdown",
   "id": "06e8dae4",
   "metadata": {
    "id": "06e8dae4"
   },
   "source": [
    "##### Calcule o desconto do sindicato (5% do salário bruto)"
   ]
  },
  {
   "cell_type": "code",
   "execution_count": 15,
   "id": "21b95b15",
   "metadata": {
    "id": "21b95b15",
    "scrolled": true
   },
   "outputs": [
    {
     "name": "stdout",
     "output_type": "stream",
     "text": [
      "Desconto do sindicato: R$400.0\n"
     ]
    }
   ],
   "source": [
    "salario_hora = float (input ('Informe sua remuneração em R$ por hora:'))\n",
    "horas_trabalhadas_mes = float (input ('Informe a quantidade de horas trabalhadas:'))\n",
    "salario_bruto = salario_hora * horas_trabalhadas_mes\n",
    "sindicato = 0.05 * salario_bruto\n",
    "\n",
    "print (f'Desconto do sindicato: R${sindicato}')"
   ]
  },
  {
   "cell_type": "markdown",
   "id": "bb14ce36",
   "metadata": {
    "id": "bb14ce36"
   },
   "source": [
    "##### Calcule o salário líquido (salário bruto - descontos)"
   ]
  },
  {
   "cell_type": "code",
   "execution_count": 16,
   "id": "56317086",
   "metadata": {
    "id": "56317086"
   },
   "outputs": [
    {
     "name": "stdout",
     "output_type": "stream",
     "text": [
      "Salário líquido: R$6080.0\n"
     ]
    }
   ],
   "source": [
    "salario_hora = float (input ('Informe sua remuneração em R$ por hora:'))\n",
    "horas_trabalhadas_mes = float (input ('Informe a quantidade de horas trabalhadas:'))\n",
    "salario_bruto = salario_hora * horas_trabalhadas_mes\n",
    "ir = 0.11 * salario_bruto\n",
    "inss = 0.08 * salario_bruto\n",
    "sindicato = 0.05 * salario_bruto\n",
    "descontos = ir + inss + sindicato\n",
    "salario_liq = salario_bruto - descontos\n",
    "\n",
    "print (f'Salário líquido: R${salario_liq}')"
   ]
  },
  {
   "cell_type": "markdown",
   "id": "cfbfcc87",
   "metadata": {
    "id": "cfbfcc87"
   },
   "source": [
    "#### 13. Faça um programa para uma loja de tintas. O programa deverá pedir o tamanho em metros quadrados da área a ser pintada. Considere que a cobertura da tinta é de 1 litro para cada 3 metros quadrados e que a tinta é vendida em latas de 18 litros, que custam R\\$ 80,00. Informe ao usuário a quantidades de latas de tinta a serem compradas e o preço total. (para simplificação nesse momento, não se preocupe em arredondar a quantidade de latas a serem compradas - vamos trabalhar isso em breve)"
   ]
  },
  {
   "cell_type": "code",
   "execution_count": 18,
   "id": "fb6a083b",
   "metadata": {
    "id": "fb6a083b"
   },
   "outputs": [
    {
     "name": "stdout",
     "output_type": "stream",
     "text": [
      "A quantidade de latas necessárias será de 1.6666666666666667, custando R$133.33333333333334 no total\n"
     ]
    }
   ],
   "source": [
    "area = float (input ('Informe o tamanho da área a ser pintada (em m2):'))\n",
    "litros_tinta = area / 3\n",
    "latas = litros_tinta / 18\n",
    "preço = latas * 80\n",
    "\n",
    "print (f'A quantidade de latas necessárias será de {latas}, custando R${preço} no total')"
   ]
  },
  {
   "cell_type": "markdown",
   "id": "d6503c92",
   "metadata": {
    "id": "d6503c92"
   },
   "source": [
    "#### 14. Faça um programa que peça o tamanho de um arquivo para download (em MB) e a velocidade de um link de Internet (em Mbps), calcule e informe o tempo aproximado de download do arquivo usando este link (em minutos).\n",
    "\n",
    "Detalhe: MB significa megabyte, Mb (com b minúsculo) significa megabit. Um megabit é 1/8 de um megabyte. "
   ]
  },
  {
   "cell_type": "code",
   "execution_count": 19,
   "id": "0563aa62",
   "metadata": {
    "id": "0563aa62"
   },
   "outputs": [
    {
     "name": "stdout",
     "output_type": "stream",
     "text": [
      "O tempo aproximado do download: 5.333333333333333 minutos\n"
     ]
    }
   ],
   "source": [
    "tamanho = float (input ('Informe o tamanho do arquivo (em MB):'))\n",
    "velocidade = float (input ('Informe a velocidade do link (em Mbps):'))\n",
    "tamanho_mb = tamanho * 8\n",
    "tempo = tamanho_mb / velocidade\n",
    "tempo_minutos = tempo / 60\n",
    "\n",
    "print (f'O tempo aproximado do download: {tempo_minutos} minutos')"
   ]
  }
 ],
 "metadata": {
  "colab": {
   "provenance": []
  },
  "kernelspec": {
   "display_name": "Python 3",
   "language": "python",
   "name": "python3"
  },
  "language_info": {
   "codemirror_mode": {
    "name": "ipython",
    "version": 3
   },
   "file_extension": ".py",
   "mimetype": "text/x-python",
   "name": "python",
   "nbconvert_exporter": "python",
   "pygments_lexer": "ipython3",
   "version": "3.13.2"
  }
 },
 "nbformat": 4,
 "nbformat_minor": 5
}
