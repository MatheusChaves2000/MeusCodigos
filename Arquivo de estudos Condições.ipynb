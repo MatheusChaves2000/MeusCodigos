{
 "cells": [
  {
   "cell_type": "markdown",
   "id": "a1aea412",
   "metadata": {},
   "source": [
    "### Testes e projetos com condições feitos por mim\n",
    "    "
   ]
  },
  {
   "cell_type": "code",
   "execution_count": 2,
   "id": "b048e4dc",
   "metadata": {},
   "outputs": [
    {
     "name": "stdout",
     "output_type": "stream",
     "text": [
      "Média: 7.166666666666667\n",
      "APROVADO\n"
     ]
    }
   ],
   "source": [
    "# Programa que calcula a média do aluno e informa se foi ou não aprovado:\n",
    "nota1 = float (input ('Informe sua 1ª nota:'))\n",
    "nota2 = float (input ('Informe sua 2ª nota:'))\n",
    "nota3 = float (input ('Informe sua 3ª nota:'))\n",
    "média = (nota1 + nota2 + nota3) / 3\n",
    "print (f'Média: {média}')\n",
    "\n",
    "if média >= 7:\n",
    "    print ('APROVADO')\n",
    "else:\n",
    "    print ('REPROVADO')"
   ]
  },
  {
   "cell_type": "code",
   "execution_count": 6,
   "id": "46b703fa",
   "metadata": {},
   "outputs": [
    {
     "name": "stdout",
     "output_type": "stream",
     "text": [
      "Negativo\n"
     ]
    }
   ],
   "source": [
    "# Programa para identificar números positivos e negativos:\n",
    "\n",
    "numero =  float (input ('Digite qualquer número:'))\n",
    "\n",
    "if numero > 0:\n",
    "    print ('Positivo')\n",
    "else:\n",
    "    print ('Negativo')"
   ]
  },
  {
   "cell_type": "code",
   "execution_count": null,
   "id": "4169a3e5",
   "metadata": {},
   "outputs": [
    {
     "name": "stdout",
     "output_type": "stream",
     "text": [
      "Seu produto não está na lista\n"
     ]
    }
   ],
   "source": [
    "#Programa para identificar itens de uma lista de compras:\n",
    "\n",
    "lista = ['maçã', 'banana', 'carne', 'leite', 'pão', 'sabonete', 'queijo']\n",
    "produto = input ('Digite um produto:')\n",
    "\n",
    "if produto in lista:\n",
    "    print ('Seu produto está na lista')\n",
    "else:\n",
    "    print ('Seu produto não está na lista')"
   ]
  },
  {
   "cell_type": "code",
   "execution_count": 16,
   "id": "9d11c72d",
   "metadata": {},
   "outputs": [
    {
     "name": "stdout",
     "output_type": "stream",
     "text": [
      "Prossiga com a criação de seu login\n"
     ]
    }
   ],
   "source": [
    "#Programa que pede idade mínima para criar uma conta em site\n",
    "\n",
    "idade = int (input ('Digite sua idade:'))\n",
    "\n",
    "if idade >= 18:\n",
    "    print ('Prossiga com a criação de seu login')\n",
    "else:\n",
    "    if idade >= 16:\n",
    "        print ('É necessária a autorização de um responsável para criação do login')\n",
    "    else:\n",
    "        print ('Não é possível prosseguir. Idade mínima: 18 anos')\n"
   ]
  },
  {
   "cell_type": "code",
   "execution_count": null,
   "id": "1c3c8c5c",
   "metadata": {},
   "outputs": [
    {
     "name": "stdout",
     "output_type": "stream",
     "text": [
      "Email válido\n",
      "Senha inválida: deve conter ao menos um caractere especial\n"
     ]
    }
   ],
   "source": [
    "#Programa de inserção de email e senha, com exigência de um caractere especial e numeros (ainda não está 100%)\n",
    "\n",
    "email = input ('Insira seu email')\n",
    "senha = input ('Crie sua senha (com ao menos um caractere especial):')\n",
    "\n",
    "if not '@' in email:\n",
    "    print ('Email inserido não é válido')\n",
    "else: \n",
    "    print ('Email válido')\n",
    "\n",
    "if not '!' in senha:\n",
    "    print ('Senha inválida: deve conter ao menos um caractere especial')\n",
    "else:\n",
    "    print ('Senha válida')"
   ]
  }
 ],
 "metadata": {
  "kernelspec": {
   "display_name": "Python 3",
   "language": "python",
   "name": "python3"
  },
  "language_info": {
   "codemirror_mode": {
    "name": "ipython",
    "version": 3
   },
   "file_extension": ".py",
   "mimetype": "text/x-python",
   "name": "python",
   "nbconvert_exporter": "python",
   "pygments_lexer": "ipython3",
   "version": "3.13.2"
  }
 },
 "nbformat": 4,
 "nbformat_minor": 5
}
